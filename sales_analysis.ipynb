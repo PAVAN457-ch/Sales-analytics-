
{
 "cells": [
  {
   "cell_type": "code",
   "execution_count": 1,
   "id": "e4b5cf9e",
   "metadata": {},
   "outputs": [],
   "source": [
    "import pandas as pd\n",
    "import seaborn as sns\n",
    "import matplotlib.pyplot as plt"
   ]
  },
  {
   "cell_type": "code",
   "execution_count": 2,
   "id": "f8d4f09c",
   "metadata": {},
   "outputs": [],
   "source": [
    "# Load train data\n",
    "train_data = pd.read_csv('E:\\train.csv')\n",
    "# Load stores.csv\n",
    "stores_df = pd.read_csv('E:\\stores.csv')"
   ]
  },
  {
   "cell_type": "code",
   "execution_count": 3,
   "id": "97fae2b1",
   "metadata": {},
   "outputs": [],
   "source": [
    "# Merge train_data with stores_df on 'store_nbr'\n",
    "train_data = train_data.merge(stores_df, on='store_nbr', how='left')"
   ]
  },
  {
   "cell_type": "code",
   "execution_count": 4,
   "id": "b3c5e45c",
   "metadata": {},
   "outputs": [],
   "source": [
    "# Check available columns\n",
    "print(train_data.columns)"
   ]
  },
  {
   "cell_type": "code",
   "execution_count": 5,
   "id": "f2d76d82",
   "metadata": {},
   "outputs": [],
   "source": [
    "# Rename type_x to store_type if necessary\n",
    "if 'type_x' in train_data.columns:\n",
    "    train_data.rename(columns={'type_x': 'store_type'}, inplace=True)"
   ]
  },
  {
   "cell_type": "code",
   "execution_count": 6,
   "id": "aecb2b47",
   "metadata": {},
   "outputs": [],
   "source": [
    "# Check unique values in store_type column\n",
    "print(train_data['store_type'].unique())\n",
    "# Count missing values\n",
    "print(train_data['store_type'].isnull().sum())"
   ]
  },
  {
   "cell_type": "code",
   "execution_count": 7,
   "id": "88f1fdee",
   "metadata": {},
   "outputs": [],
   "source": [
    "# Fill missing store_type values\n",
    "train_data['store_type'].fillna('Unknown', inplace=True)"
   ]
  },
  {
   "cell_type": "code",
   "execution_count": 8,
   "id": "749e7c0a",
   "metadata": {},
   "outputs": [],
   "source": [
    "# Plot the box plot\n",
    "plt.figure(figsize=(8, 4))\n",
    "sns.boxplot(data=train_data, x='store_type', y='sales')\n",
    "plt.title('Sales Distribution by Store Type')\n",
    "plt.show()"
   ]
  }
 ],
 "metadata": {
  "kernelspec": {
   "display_name": "Python 3",
   "language": "python",
   "name": "python3"
  },
  "language_info": {
   "codemirror_mode": {
    "name": "ipython",
    "version": 3
   },
   "file_extension": ".py",
   "mimetype": "text/x-python",
   "name": "python",
   "nbconvert_exporter": "python",
   "pygments_lexer": "ipython3",
   "version": "3.8.5"
  }
 },
 "nbformat": 4,
 "nbformat_minor": 4
}
